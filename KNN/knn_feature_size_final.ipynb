{
 "cells": [
  {
   "cell_type": "code",
   "execution_count": 1,
   "metadata": {
    "collapsed": false
   },
   "outputs": [
    {
     "name": "stderr",
     "output_type": "stream",
     "text": [
      "/Users/RyanSampana/anaconda2/lib/python2.7/site-packages/matplotlib/font_manager.py:273: UserWarning: Matplotlib is building the font cache using fc-list. This may take a moment.\n",
      "  warnings.warn('Matplotlib is building the font cache using fc-list. This may take a moment.')\n"
     ]
    }
   ],
   "source": [
    "%matplotlib inline\n",
    "from matplotlib import pyplot as plt\n",
    "from knnClassifier import knnClassifier\n",
    "import numpy as np\n",
    "import pandas as pd\n",
    "from sklearn.feature_extraction.text import TfidfVectorizer\n",
    "from sklearn import preprocessing\n",
    "from sklearn.model_selection import KFold\n",
    "from sklearn.metrics import accuracy_score\n",
    "from collections import defaultdict"
   ]
  },
  {
   "cell_type": "code",
   "execution_count": 2,
   "metadata": {
    "collapsed": true
   },
   "outputs": [],
   "source": [
    "#x = [100,1000,10000,20000,30000,40000]\n",
    "#y = [0.58,0.705,0.812,0.824,0.824,0.824]\n",
    "#err = [0.05,0.03,0.02,0.02,0.02,0.02]"
   ]
  },
  {
   "cell_type": "code",
   "execution_count": 3,
   "metadata": {
    "collapsed": false
   },
   "outputs": [
    {
     "name": "stdout",
     "output_type": "stream",
     "text": [
      "start split featuresize 100\n",
      "split\n",
      "split\n",
      "split\n",
      "split\n",
      "split\n",
      "done featuresize 100\n",
      "start split featuresize 1000\n",
      "split\n",
      "split\n",
      "split\n",
      "split\n",
      "split\n",
      "done featuresize 1000\n",
      "start split featuresize 2000\n",
      "split\n",
      "split\n",
      "split\n",
      "split\n",
      "split\n",
      "done featuresize 2000\n",
      "start split featuresize 3000\n",
      "split\n",
      "split\n",
      "split\n",
      "split\n",
      "split\n",
      "done featuresize 3000\n",
      "start split featuresize 5000\n",
      "split\n",
      "split\n",
      "split\n",
      "split\n",
      "split\n",
      "done featuresize 5000\n",
      "start split featuresize 10000\n",
      "split\n",
      "split\n",
      "split\n",
      "split\n",
      "split\n",
      "done featuresize 10000\n",
      "start split featuresize 20000\n",
      "split\n",
      "split\n",
      "split\n",
      "split\n",
      "split\n",
      "done featuresize 20000\n",
      "start split featuresize 30000\n",
      "split\n",
      "split\n",
      "split\n",
      "split\n",
      "split\n",
      "done featuresize 30000\n",
      "start split featuresize 40000\n",
      "split\n",
      "split\n",
      "split\n",
      "split\n",
      "split\n",
      "done featuresize 40000\n",
      "done\n"
     ]
    }
   ],
   "source": [
    "df_in = pd.read_csv(r'datasets/train_in.csv',header=None, skiprows=1, usecols=[1])\n",
    "X = [val for sublist in df_in.values.tolist() for val in sublist]\n",
    "\n",
    "df_out = pd.read_csv(r'datasets/train_out.csv',header=None, skiprows=1, usecols=[1])\n",
    "y = [val for sublist in df_out.values.tolist() for val in sublist]\n",
    "# due to the large size of the dataset we simply use 20,000 examples to test features. \n",
    "# We don't have the resources to test on all 85K\n",
    "X = X[0:1000]         \n",
    "y = y[0:1000]\n",
    "\n",
    "le = preprocessing.LabelEncoder()\n",
    "y = le.fit_transform(y)\n",
    "feature_stats = defaultdict()\n",
    "for feature_size in [100,1000,2000,3000,5000,10000,20000,30000,40000]:\n",
    "    tfidf_vectorizer = TfidfVectorizer(max_features=feature_size, stop_words='english', ngram_range=(1,2), sublinear_tf=True) \n",
    "    tfidf = tfidf_vectorizer.fit_transform(X)\n",
    "    tfidf = tfidf.toarray()\n",
    "\n",
    "    # 1000 chunks\n",
    "    kf = KFold(n_splits=5)\n",
    "    scores = []\n",
    "    print \"start split featuresize\",feature_size\n",
    "    for train_index, test_index in kf.split(tfidf):\n",
    "\n",
    "        my_classifier = knnClassifier()\n",
    "        # fit\n",
    "        my_classifier.fit(tfidf[train_index], y[train_index])\n",
    "        # predict\n",
    "        predictions = my_classifier.predict(tfidf[test_index],k = 3)\n",
    "        scores.append(accuracy_score(y[test_index],predictions))\n",
    "        print \"split\"\n",
    "    feature_stats[feature_size] = scores\n",
    "    print \"done featuresize\",feature_size\n",
    "print \"done\""
   ]
  },
  {
   "cell_type": "code",
   "execution_count": 14,
   "metadata": {
    "collapsed": false
   },
   "outputs": [
    {
     "name": "stdout",
     "output_type": "stream",
     "text": [
      "[20000, 10000, 100, 1000, 30000, 2000, 5000, 40000, 3000] [82.400000000000006, 81.199999999999989, 48.5, 70.399999999999991, 82.400000000000006, 79.900000000000006, 81.699999999999989, 82.599999999999994, 80.800000000000011] [2.8879058156387285, 2.6191601707417562, 5.8566201857385281, 3.4263683398023619, 2.267156809750924, 0.91651513899116477, 2.6570660511172828, 2.2226110770892857, 2.0396078054371118]\n"
     ]
    }
   ],
   "source": [
    "x = []\n",
    "y = []\n",
    "err = []\n",
    "for k in feature_stats.iterkeys():\n",
    "    x.append(k)\n",
    "    y.append(np.mean(feature_stats[k])*100)\n",
    "    err.append(np.std(feature_stats[k])*100)\n",
    "print x,y,err"
   ]
  },
  {
   "cell_type": "code",
   "execution_count": 16,
   "metadata": {
    "collapsed": false
   },
   "outputs": [
    {
     "data": {
      "text/plain": [
       "<function matplotlib.pyplot.close>"
      ]
     },
     "execution_count": 16,
     "metadata": {},
     "output_type": "execute_result"
    },
    {
     "data": {
      "image/png": "[encoded data removed]",
      "text/plain": [
       "<matplotlib.figure.Figure at 0x1190120d0>"
      ]
     },
     "metadata": {},
     "output_type": "display_data"
    }
   ],
   "source": [
    "plt.figure(1)\n",
    "plt.errorbar(x,y,yerr=err,fmt='o')\n",
    "plt.grid()\n",
    "plt.xlabel('Number of features')\n",
    "plt.ylabel('%Accuracy')\n",
    "plt.savefig('./featuresknn.pdf')\n",
    "plt.close"
   ]
  }
 ],
 "metadata": {
  "kernelspec": {
   "display_name": "Python [Root]",
   "language": "python",
   "name": "Python [Root]"
  },
  "language_info": {
   "codemirror_mode": {
    "name": "ipython",
    "version": 2
   },
   "file_extension": ".py",
   "mimetype": "text/x-python",
   "name": "python",
   "nbconvert_exporter": "python",
   "pygments_lexer": "ipython2",
   "version": "2.7.12"
  }
 },
 "nbformat": 4,
 "nbformat_minor": 0
}
