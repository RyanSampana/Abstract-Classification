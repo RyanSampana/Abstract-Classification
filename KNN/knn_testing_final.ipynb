{
 "cells": [
  {
   "cell_type": "code",
   "execution_count": 1,
   "metadata": {
    "collapsed": false
   },
   "outputs": [
    {
     "name": "stderr",
     "output_type": "stream",
     "text": [
      "/Users/RyanSampana/anaconda2/lib/python2.7/site-packages/matplotlib/font_manager.py:273: UserWarning: Matplotlib is building the font cache using fc-list. This may take a moment.\n",
      "  warnings.warn('Matplotlib is building the font cache using fc-list. This may take a moment.')\n"
     ]
    }
   ],
   "source": [
    "%matplotlib inline\n",
    "from matplotlib import pyplot as plt\n",
    "from knnClassifier import knnClassifier\n",
    "import numpy as np\n",
    "import pandas as pd\n",
    "from sklearn.feature_extraction.text import TfidfVectorizer\n",
    "from sklearn import preprocessing\n",
    "from sklearn.model_selection import KFold\n",
    "from sklearn.metrics import accuracy_score\n",
    "from sklearn.metrics import confusion_matrix"
   ]
  },
  {
   "cell_type": "markdown",
   "metadata": {},
   "source": [
    "We calculate Tfidf on train_test Set"
   ]
  },
  {
   "cell_type": "code",
   "execution_count": 15,
   "metadata": {
    "collapsed": false
   },
   "outputs": [
    {
     "name": "stdout",
     "output_type": "stream",
     "text": [
      "start split\n",
      "split\n",
      "split\n",
      "split\n",
      "split\n",
      "split\n",
      "done\n"
     ]
    }
   ],
   "source": [
    "df_in = pd.read_csv(r'datasets/train_in.csv',header=None, skiprows=1, usecols=[1])\n",
    "X = [val for sublist in df_in.values.tolist() for val in sublist]\n",
    "\n",
    "df_out = pd.read_csv(r'datasets/train_out.csv',header=None, skiprows=1, usecols=[1])\n",
    "y = [val for sublist in df_out.values.tolist() for val in sublist]\n",
    "# due to the large size of the dataset we simply use 20,000 examples to test features. \n",
    "# We don't have the resources to test on all 85K\n",
    "X = X[0:1000]         \n",
    "y = y[0:1000]\n",
    "\n",
    "le = preprocessing.LabelEncoder()\n",
    "y = le.fit_transform(y)\n",
    "feature_stats = defaultdict()\n",
    "for feature_size in [100,1000,2000,3000,5000,10000,20000,30000,40000]:\n",
    "    tfidf_vectorizer = TfidfVectorizer(max_features=feature_size, stop_words='english', ngram_range=(1,2), sublinear_tf=True) \n",
    "    tfidf = tfidf_vectorizer.fit_transform(X)\n",
    "    tfidf = tfidf.toarray()\n",
    "\n",
    "    # 1000 chunks\n",
    "    kf = KFold(n_splits=5)\n",
    "    scores = []\n",
    "    print \"start split featuresize\",feature_size\n",
    "    for train_index, test_index in kf.split(tfidf):\n",
    "\n",
    "        my_classifier = knnClassifier()\n",
    "        # fit\n",
    "        my_classifier.fit(tfidf[train_index], y[train_index])\n",
    "        # predict\n",
    "        predictions = my_classifier.predict(tfidf[test_index],k = 3)\n",
    "        scores.append(accuracy_score(y[test_index],predictions))\n",
    "        print \"split\"\n",
    "    feature_stats[feature_size] = scores\n",
    "    print \"done featuresize\",feature_size\n",
    "print \"done\""
   ]
  },
  {
   "cell_type": "code",
   "execution_count": null,
   "metadata": {
    "collapsed": true
   },
   "outputs": [],
   "source": [
    "x = []\n",
    "y = []\n",
    "err = []\n",
    "for k in feature_stats.iterkeys():\n",
    "    x.append(k)\n",
    "    y.append(np.mean(feature_stats[k])*100)\n",
    "    err.append(np.std(feature_stats[k])*100)\n",
    "print x,y,err"
   ]
  },
  {
   "cell_type": "code",
   "execution_count": null,
   "metadata": {
    "collapsed": true
   },
   "outputs": [],
   "source": [
    "plt.figure(1)\n",
    "plt.errorbar(x,y,yerr=err,fmt='o')\n",
    "plt.grid()\n",
    "plt.xlabel('Number of features')\n",
    "plt.ylabel('%Accuracy')\n",
    "plt.savefig('./featuresknn.pdf')\n",
    "plt.close"
   ]
  },
  {
   "cell_type": "markdown",
   "metadata": {},
   "source": [
    "# Now that we know the most optimal number of features is 10,000, lets find optimal k\n",
    "\n",
    "##### vals to test [3,5,7,9,13,15,17,23,25,33,43,53,63,103]"
   ]
  },
  {
   "cell_type": "code",
   "execution_count": 49,
   "metadata": {
    "collapsed": false
   },
   "outputs": [
    {
     "name": "stdout",
     "output_type": "stream",
     "text": [
      "starting split for K= 3\n",
      "split\n",
      "split\n",
      "split\n",
      "split\n",
      "split\n",
      "done k\n",
      "starting split for K= 5\n",
      "split\n",
      "split\n",
      "split\n",
      "split\n",
      "split\n",
      "done k\n",
      "starting split for K= 7\n",
      "split\n",
      "split\n",
      "split\n",
      "split\n",
      "split\n",
      "done k\n",
      "starting split for K= 9\n",
      "split\n",
      "split\n",
      "split\n",
      "split\n",
      "split\n",
      "done k\n",
      "starting split for K= 13\n",
      "split\n",
      "split\n",
      "split\n",
      "split\n",
      "split\n",
      "done k\n",
      "starting split for K= 15\n",
      "split\n",
      "split\n",
      "split\n",
      "split\n",
      "split\n",
      "done k\n",
      "starting split for K= 17\n",
      "split\n",
      "split\n",
      "split\n",
      "split\n",
      "split\n",
      "done k\n",
      "starting split for K= 23\n",
      "split\n",
      "split\n",
      "split\n",
      "split\n",
      "split\n",
      "done k\n",
      "starting split for K= 25\n",
      "split\n",
      "split\n",
      "split\n",
      "split\n",
      "split\n",
      "done k\n",
      "starting split for K= 33\n",
      "split\n",
      "split\n",
      "split\n",
      "split\n",
      "split\n",
      "done k\n",
      "starting split for K= 43\n",
      "split\n",
      "split\n",
      "split\n",
      "split\n",
      "split\n",
      "done k\n",
      "starting split for K= 53\n",
      "split\n",
      "split\n",
      "split\n",
      "split\n",
      "split\n",
      "done k\n",
      "starting split for K= 63\n",
      "split\n",
      "split\n",
      "split\n",
      "split\n",
      "split\n",
      "done k\n",
      "starting split for K= 103\n",
      "split\n",
      "split\n",
      "split\n",
      "split\n",
      "split\n",
      "done k\n",
      "done\n"
     ]
    }
   ],
   "source": [
    "df_in = pd.read_csv(r'datasets/train_in.csv',header=None, skiprows=1, usecols=[1])\n",
    "X = [val for sublist in df_in.values.tolist() for val in sublist]\n",
    "\n",
    "df_out = pd.read_csv(r'datasets/train_out.csv',header=None, skiprows=1, usecols=[1])\n",
    "y = [val for sublist in df_out.values.tolist() for val in sublist]\n",
    "# due to the large size of the dataset we simply use 20,000 examples to test features. \n",
    "# We don't have the resources to test on all 85K\n",
    "X = X[0:1000]         \n",
    "y = y[0:1000]\n",
    "\n",
    "le = preprocessing.LabelEncoder()\n",
    "y = le.fit_transform(y)\n",
    "\n",
    "tfidf_vectorizer = TfidfVectorizer(max_features=10000, stop_words='english', ngram_range=(1,2), sublinear_tf=True) \n",
    "tfidf = tfidf_vectorizer.fit_transform(X)\n",
    "tfidf = tfidf.toarray()\n",
    "\n",
    "# X_train, X_test, y_train, y_test = train_test_split(X, y, test_size = 0.4, random_state=0)\n",
    "# 1000 chunks\n",
    "k_stats = {}\n",
    "for ak in [3,5,7,9,13,15,17,23,25,33,43,53,63,103]:\n",
    "    kf = KFold(n_splits=5)\n",
    "    scores = []\n",
    "    print \"starting split for K=\",ak\n",
    "    for train_index, test_index in kf.split(tfidf):\n",
    "        #tfidf_vectorizer = TfidfVectorizer(max_features=1000,ngram_range=(1,2)) \n",
    "        #train_matrix = tfidf_vectorizer.fit_transform(X[train_index])\n",
    "        #test_matrix = tfidf_vectorizer.transform(X[test_index])\n",
    "        my_classifier = knnClassifier()\n",
    "        # fit\n",
    "        my_classifier.fit(tfidf[train_index], y[train_index])\n",
    "        # predict\n",
    "        predictions = my_classifier.predict(tfidf[test_index],k = ak)\n",
    "        scores.append(accuracy_score(y[test_index],predictions))\n",
    "        print \"split\"\n",
    "    print \"done k\"\n",
    "    k_stats[ak] = [np.mean(scores),np.std(scores)]\n",
    "print \"done\"   "
   ]
  },
  {
   "cell_type": "code",
   "execution_count": 63,
   "metadata": {
    "collapsed": false
   },
   "outputs": [
    {
     "name": "stdout",
     "output_type": "stream",
     "text": [
      "33 [0.84800000000000009, 0.016000000000000014]\n",
      "3 [0.81199999999999994, 0.026191601707417564]\n",
      "5 [0.83499999999999996, 0.020493901531919188]\n",
      "7 [0.84400000000000008, 0.01959591794226544]\n",
      "9 [0.83299999999999996, 0.023790754506740633]\n",
      "43 [0.84499999999999997, 0.016124515496597113]\n",
      "13 [0.84499999999999997, 0.010488088481701525]\n",
      "15 [0.85299999999999998, 0.015033296378372923]\n",
      "17 [0.84700000000000009, 0.018601075237738292]\n",
      "53 [0.83999999999999986, 0.01816590212458493]\n",
      "23 [0.84999999999999998, 0.016431676725154998]\n",
      "25 [0.84999999999999998, 0.015811388300841913]\n",
      "103 [0.82899999999999996, 0.011575836902790236]\n",
      "63 [0.83599999999999997, 0.01743559577416267]\n"
     ]
    }
   ],
   "source": [
    "for key in k_stats.iterkeys():\n",
    "    print key,k_stats[key]"
   ]
  },
  {
   "cell_type": "code",
   "execution_count": 61,
   "metadata": {
    "collapsed": false
   },
   "outputs": [
    {
     "data": {
      "image/png": "[encoded data removed]",
      "text/plain": [
       "<matplotlib.figure.Figure at 0x1149c93d0>"
      ]
     },
     "metadata": {},
     "output_type": "display_data"
    }
   ],
   "source": [
    "plt.figure(2)\n",
    "x = k_stats.keys()\n",
    "y = k_stats.values()\n",
    "split = []\n",
    "for m in zip(*k_stats.values()):\n",
    "    split.append(m)\n",
    "y = [s*100 for s in split[0]]\n",
    "err = [s*100 for s in split[1]]\n",
    "plt.errorbar(x,y,yerr = err,fmt='o')\n",
    "plt.xlim(0,105)\n",
    "plt.grid()\n",
    "plt.xlabel('K-Neighbors')\n",
    "plt.ylabel('% Accuracy')\n",
    "plt.title('K-Neighbors vs Accuracy')\n",
    "plt.savefig('KNNfeatures.pdf')"
   ]
  },
  {
   "cell_type": "markdown",
   "metadata": {},
   "source": [
    "# Moment of truth lets validate for k=15, feature size of 10,000\n",
    "# we validate till 10,000 index so we added the next 9000 examples"
   ]
  },
  {
   "cell_type": "code",
   "execution_count": 2,
   "metadata": {
    "collapsed": false,
    "scrolled": true
   },
   "outputs": [
    {
     "name": "stdout",
     "output_type": "stream",
     "text": [
      "starting split\n",
      "0.8642\n",
      "[[1335   78   47  100]\n",
      " [  55 1385   17   15]\n",
      " [ 104   49  849   54]\n",
      " [ 103   34   23  752]]\n",
      "done\n"
     ]
    }
   ],
   "source": [
    "df_in = pd.read_csv(r'datasets/train_in.csv',header=None, skiprows=1, usecols=[1])\n",
    "X = [val for sublist in df_in.values.tolist() for val in sublist]\n",
    "\n",
    "df_out = pd.read_csv(r'datasets/train_out.csv',header=None, skiprows=1, usecols=[1])\n",
    "y = [val for sublist in df_out.values.tolist() for val in sublist]\n",
    "# due to the large size of the dataset we simply use 20,000 examples to test features. \n",
    "# We don't have the resources to test on all 85K\n",
    "\n",
    "le = preprocessing.LabelEncoder()\n",
    "y =le.fit_transform(y)\n",
    "index_train = 1000\n",
    "index_validate_end = 10000\n",
    "\n",
    "tfidf_vectorizer = TfidfVectorizer(max_features=10000, stop_words='english', ngram_range=(1,2), sublinear_tf=True) \n",
    "# tfidf on the whole space train and validate set\n",
    "tfidf = tfidf_vectorizer.fit_transform(X[0:10000])\n",
    "tfidf = tfidf.toarray()\n",
    "\n",
    "print \"starting split\"\n",
    "my_classifier = knnClassifier()\n",
    "my_classifier.fit(tfidf[0:1000], y[0:1000])\n",
    "predictions = my_classifier.predict(tfidf[1000:(1000+5000)],k = 15)\n",
    "score = accuracy_score(y[1000:(1000+5000)],predictions)\n",
    "cnf_matrix = confusion_matrix(y[1000:(1000+5000)], predictions)\n",
    "print score\n",
    "print cnf_matrix\n",
    "print \"done\""
   ]
  },
  {
   "cell_type": "code",
   "execution_count": 6,
   "metadata": {
    "collapsed": true
   },
   "outputs": [],
   "source": [
    "# this code was found on http://scikit-learn.org/stable/auto_examples/model_selection/plot_confusion_matrix.html\n",
    "# thanks scikit for making our project look pretty\n",
    "def plot_confusion_matrix(cm, classes,\n",
    "                          normalize=False,\n",
    "                          title='Confusion matrix',\n",
    "                          cmap=plt.cm.Blues):\n",
    "    \"\"\"\n",
    "    This function prints and plots the confusion matrix.\n",
    "    Normalization can be applied by setting `normalize=True`.\n",
    "    \"\"\"\n",
    "    import itertools\n",
    "    plt.imshow(cm, interpolation='nearest', cmap=cmap)\n",
    "    plt.title(title)\n",
    "    plt.colorbar()\n",
    "    tick_marks = np.arange(len(classes))\n",
    "    plt.xticks(tick_marks, classes, rotation=45)\n",
    "    plt.yticks(tick_marks, classes)\n",
    "\n",
    "    if normalize:\n",
    "        cm = cm.astype('float') / cm.sum(axis=1)[:, np.newaxis]\n",
    "        print(\"Normalized confusion matrix\")\n",
    "    else:\n",
    "        print('Confusion matrix, without normalization')\n",
    "\n",
    "    print(cm)\n",
    "\n",
    "    thresh = cm.max() / 2.\n",
    "    for i, j in itertools.product(range(cm.shape[0]), range(cm.shape[1])):\n",
    "        plt.text(j, i, cm[i, j],\n",
    "                 horizontalalignment=\"center\",\n",
    "                 color=\"white\" if cm[i, j] > thresh else \"black\")\n",
    "\n",
    "    plt.tight_layout()\n",
    "    plt.ylabel('True label')\n",
    "    plt.xlabel('Predicted label')"
   ]
  },
  {
   "cell_type": "code",
   "execution_count": 8,
   "metadata": {
    "collapsed": false
   },
   "outputs": [
    {
     "name": "stdout",
     "output_type": "stream",
     "text": [
      "Confusion matrix, without normalization\n",
      "[[1335   78   47  100]\n",
      " [  55 1385   17   15]\n",
      " [ 104   49  849   54]\n",
      " [ 103   34   23  752]]\n"
     ]
    },
    {
     "data": {
      "image/png": "[encoded data removed]",
      "text/plain": [
       "<matplotlib.figure.Figure at 0x11aa6b750>"
      ]
     },
     "metadata": {},
     "output_type": "display_data"
    }
   ],
   "source": [
    "class_names = list(le.classes_)\n",
    "plt.figure()\n",
    "plot_confusion_matrix(cnf_matrix, classes=class_names,\n",
    "                      title='Confusion matrix, without normalization')\n",
    "plt.savefig('cnf_matrix_validate.pdf')"
   ]
  },
  {
   "cell_type": "markdown",
   "metadata": {},
   "source": [
    "Alright Not Bad... but the Naive Bayes got 91% SKLearn-SVM 93%... This is not looking good."
   ]
  },
  {
   "cell_type": "markdown",
   "metadata": {},
   "source": [
    "# Let see if increasing the number of train examples improves accuracy\n",
    "## k=15, #features = 10000"
   ]
  },
  {
   "cell_type": "code",
   "execution_count": 13,
   "metadata": {
    "collapsed": false
   },
   "outputs": [
    {
     "name": "stdout",
     "output_type": "stream",
     "text": [
      "starting split\n",
      "0.8735\n",
      "[[554  34  16  35]\n",
      " [ 18 538   5  12]\n",
      " [ 39  14 326  15]\n",
      " [ 41  16   8 329]]\n",
      "done\n",
      "starting split\n",
      "0.871\n",
      "[[812  34  18  47]\n",
      " [ 36 830  11  10]\n",
      " [ 46  29 534  38]\n",
      " [ 80  24  14 437]]\n",
      "done\n",
      "starting split\n",
      "0.87575\n",
      "[[1097   62   25   59]\n",
      " [  36 1131   17   15]\n",
      " [  65   36  717   42]\n",
      " [  98   27   15  558]]\n",
      "done\n",
      "starting split\n",
      "0.8852\n",
      "[[1370   77   24   76]\n",
      " [  37 1437   14   20]\n",
      " [  74   44  871   40]\n",
      " [ 117   31   20  748]]\n",
      "done\n"
     ]
    }
   ],
   "source": [
    "df_in = pd.read_csv(r'datasets/train_in.csv',header=None, skiprows=1, usecols=[1])\n",
    "X = [val for sublist in df_in.values.tolist() for val in sublist]\n",
    "\n",
    "df_out = pd.read_csv(r'datasets/train_out.csv',header=None, skiprows=1, usecols=[1])\n",
    "y = [val for sublist in df_out.values.tolist() for val in sublist]\n",
    "# due to the large size of the dataset we simply use 20,000 examples to test features. \n",
    "# We don't have the resources to test on all 85K\n",
    "\n",
    "print \"doing tfidf tings\"\n",
    "tfidf_vectorizer = TfidfVectorizer(max_features=10000, stop_words='english', ngram_range=(1,2), sublinear_tf=True) \n",
    "# tfidf on the whole space train and validate set\n",
    "tfidf = tfidf_vectorizer.fit_transform(X)\n",
    "tfidf = tfidf.toarray()\n",
    "\n",
    "\n",
    "le = preprocessing.LabelEncoder()\n",
    "y =le.fit_transform(y)\n",
    "for indexVal in [2000,3000,4000,5000]:\n",
    "    index_train = indexVal\n",
    "    index_validate_end = int(2*index_train)\n",
    "\n",
    "    print \"starting split\"\n",
    "    my_classifier = knnClassifier()\n",
    "    my_classifier.fit(tfidf[0:index_train], y[0:index_train])\n",
    "    predictions = my_classifier.predict(tfidf[index_train:index_validate_end],k = 15)\n",
    "    score = accuracy_score(y[index_train:index_validate_end],predictions)\n",
    "    cnf_matrix = confusion_matrix(y[index_train:index_validate_end], predictions)\n",
    "    print score\n",
    "    print cnf_matrix\n",
    "    print \"done\""
   ]
  }
 ],
 "metadata": {
  "kernelspec": {
   "display_name": "Python [Root]",
   "language": "python",
   "name": "Python [Root]"
  },
  "language_info": {
   "codemirror_mode": {
    "name": "ipython",
    "version": 2
   },
   "file_extension": ".py",
   "mimetype": "text/x-python",
   "name": "python",
   "nbconvert_exporter": "python",
   "pygments_lexer": "ipython2",
   "version": "2.7.12"
  }
 },
 "nbformat": 4,
 "nbformat_minor": 0
}
