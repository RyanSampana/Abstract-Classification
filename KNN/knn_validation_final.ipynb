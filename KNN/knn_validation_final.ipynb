{
 "cells": [
  {
   "cell_type": "code",
   "execution_count": 1,
   "metadata": {
    "collapsed": false
   },
   "outputs": [],
   "source": [
    "from knnClassifier import knnClassifier\n",
    "import numpy as np\n",
    "import pandas as pd\n",
    "from sklearn.feature_extraction.text import TfidfVectorizer\n",
    "from sklearn import preprocessing\n",
    "from sklearn.model_selection import KFold\n",
    "from sklearn.metrics import accuracy_score\n",
    "from collections import defaultdict\n",
    "from sklearn.metrics import confusion_matrix"
   ]
  },
  {
   "cell_type": "code",
   "execution_count": 4,
   "metadata": {
    "collapsed": false
   },
   "outputs": [
    {
     "name": "stdout",
     "output_type": "stream",
     "text": [
      "starting split\n",
      "0.865275405143\n",
      "[[11772   775   271   852]\n",
      " [  462 12039   134   188]\n",
      " [  748   427  7023   492]\n",
      " [ 1008   292   187  6648]]\n",
      "done\n"
     ]
    }
   ],
   "source": [
    "df_in = pd.read_csv(r'datasets/train_in.csv',header=None, skiprows=1, usecols=[1])\n",
    "X = [val for sublist in df_in.values.tolist() for val in sublist]\n",
    "\n",
    "df_out = pd.read_csv(r'datasets/train_out.csv',header=None, skiprows=1, usecols=[1])\n",
    "y = [val for sublist in df_out.values.tolist() for val in sublist]\n",
    "# due to the large size of the dataset we simply use 20,000 examples to test features. \n",
    "# We don't have the resources to test on all 85K\n",
    "\n",
    "le = preprocessing.LabelEncoder()\n",
    "y =le.fit_transform(y)\n",
    "index_train = 1000\n",
    "index_validate_end = int(len(X))\n",
    "\n",
    "tfidf_vectorizer = TfidfVectorizer(max_features=10000, stop_words='english', ngram_range=(1,2), sublinear_tf=True) \n",
    "# tfidf on the whole space train and validate set\n",
    "tfidf = tfidf_vectorizer.fit_transform(X[0:index_validate_end])\n",
    "tfidf = tfidf.toarray()\n",
    "\n",
    "print \"starting split\"\n",
    "my_classifier = knnClassifier()\n",
    "my_classifier.fit(tfidf[0:index_train], y[0:index_train])\n",
    "predictions = my_classifier.predict(tfidf[index_train:index_validate_end],k = 15)\n",
    "score = accuracy_score(y[index_train:index_validate_end],predictions)\n",
    "cnf_matrix = confusion_matrix(y[index_train:index_validate_end], predictions)\n",
    "print score\n",
    "print cnf_matrix\n",
    "print \"done\""
   ]
  },
  {
   "cell_type": "code",
   "execution_count": 6,
   "metadata": {
    "collapsed": false
   },
   "outputs": [
    {
     "name": "stderr",
     "output_type": "stream",
     "text": [
      "/Users/RyanSampana/anaconda2/lib/python2.7/site-packages/matplotlib/font_manager.py:273: UserWarning: Matplotlib is building the font cache using fc-list. This may take a moment.\n",
      "  warnings.warn('Matplotlib is building the font cache using fc-list. This may take a moment.')\n"
     ]
    }
   ],
   "source": [
    "%matplotlib inline\n",
    "from matplotlib import pyplot as plt\n",
    "# this code was found on http://scikit-learn.org/stable/auto_examples/model_selection/plot_confusion_matrix.html\n",
    "# thanks scikit for making our project look pretty\n",
    "def plot_confusion_matrix(cm, classes,\n",
    "                          normalize=False,\n",
    "                          title='Confusion matrix',\n",
    "                          cmap=plt.cm.Blues):\n",
    "    \"\"\"\n",
    "    This function prints and plots the confusion matrix.\n",
    "    Normalization can be applied by setting `normalize=True`.\n",
    "    \"\"\"\n",
    "    import itertools\n",
    "    plt.imshow(cm, interpolation='nearest', cmap=cmap)\n",
    "    plt.title(title)\n",
    "    plt.colorbar()\n",
    "    tick_marks = np.arange(len(classes))\n",
    "    plt.xticks(tick_marks, classes, rotation=45)\n",
    "    plt.yticks(tick_marks, classes)\n",
    "\n",
    "    if normalize:\n",
    "        cm = cm.astype('float') / cm.sum(axis=1)[:, np.newaxis]\n",
    "        print(\"Normalized confusion matrix\")\n",
    "    else:\n",
    "        print('Confusion matrix, without normalization')\n",
    "\n",
    "    print(cm)\n",
    "\n",
    "    thresh = cm.max() / 2.\n",
    "    for i, j in itertools.product(range(cm.shape[0]), range(cm.shape[1])):\n",
    "        plt.text(j, i, cm[i, j],\n",
    "                 horizontalalignment=\"center\",\n",
    "                 color=\"white\" if cm[i, j] > thresh else \"black\")\n",
    "\n",
    "    plt.tight_layout()\n",
    "    plt.ylabel('True label')\n",
    "    plt.xlabel('Predicted label')"
   ]
  },
  {
   "cell_type": "code",
   "execution_count": 7,
   "metadata": {
    "collapsed": false
   },
   "outputs": [
    {
     "name": "stdout",
     "output_type": "stream",
     "text": [
      "Confusion matrix, without normalization\n",
      "[[11772   775   271   852]\n",
      " [  462 12039   134   188]\n",
      " [  748   427  7023   492]\n",
      " [ 1008   292   187  6648]]\n"
     ]
    },
    {
     "data": {
      "image/png": "[encoded data removed]",
      "text/plain": [
       "<matplotlib.figure.Figure at 0x11e066cd0>"
      ]
     },
     "metadata": {},
     "output_type": "display_data"
    }
   ],
   "source": [
    "class_names = list(le.classes_)\n",
    "plt.figure()\n",
    "plot_confusion_matrix(cnf_matrix, classes=class_names,\n",
    "                      title='Confusion matrix, without normalization')\n",
    "plt.savefig('cnfKNNWhole.pdf')"
   ]
  },
  {
   "cell_type": "markdown",
   "metadata": {},
   "source": [
    "Lets try and use tfidf on the whole abstract space available, with both the set that is labeled and unlabeld. Then lets test how our classifier does with 1000 train and predict 3000 abstracts in the labeled set."
   ]
  },
  {
   "cell_type": "code",
   "execution_count": null,
   "metadata": {
    "collapsed": false
   },
   "outputs": [],
   "source": [
    "df_in = pd.read_csv(r'datasets/train_in.csv',header=None, skiprows=1, usecols=[1])\n",
    "X = [val for sublist in df_in.values.tolist() for val in sublist]\n",
    "\n",
    "df_out = pd.read_csv(r'datasets/train_out.csv',header=None, skiprows=1, usecols=[1])\n",
    "y = [val for sublist in df_out.values.tolist() for val in sublist]\n",
    "# due to the large size of the dataset we simply use 20,000 examples to test features. \n",
    "# We don't have the resources to test on all 85K\n",
    "\n",
    "df_kaggle = pd.read_csv(r'datasets/test_in.csv',header=None, skiprows=1, usecols=[1])\n",
    "kaggle = [val for sublist in df_kaggle.values.tolist() for val in sublist]\n",
    "\n",
    "BigCorpus = np.concatenate((X,kaggle),axis=0)\n",
    "\n",
    "le = preprocessing.LabelEncoder()\n",
    "y =le.fit_transform(y)\n",
    "index_train = 1000\n",
    "index_validate_end = 3000\n",
    "\n",
    "tfidf_vectorizer = TfidfVectorizer(max_features=10000, stop_words='english', ngram_range=(1,2), sublinear_tf=True) \n",
    "# tfidf on the whole space train and validate set\n",
    "tfidf = tfidf_vectorizer.fit_transform(BigCorpus)\n",
    "tfidf = tfidf.toarray()\n",
    "\n",
    "print \"done tfidf tings\"\n",
    "\n",
    "# notice that our idicies allow us to stay within the space of documents that we have labels for\n",
    "print \"starting split\"\n",
    "my_classifier = knnClassifier()\n",
    "my_classifier.fit(tfidf[0:index_train], y[0:index_train])\n",
    "predictions = my_classifier.predict(tfidf[index_train:index_validate_end],k = 15)\n",
    "print accuracy_score(y[index_train:index_validate_end],predictions)\n",
    "print \"done\""
   ]
  },
  {
   "cell_type": "code",
   "execution_count": null,
   "metadata": {
    "collapsed": true
   },
   "outputs": [],
   "source": [
    "df_in = pd.read_csv(r'datasets/train_in.csv',header=None, skiprows=1, usecols=[1])\n",
    "X = [val for sublist in df_in.values.tolist() for val in sublist]\n",
    "\n",
    "df_out = pd.read_csv(r'datasets/train_out.csv',header=None, skiprows=1, usecols=[1])\n",
    "y = [val for sublist in df_out.values.tolist() for val in sublist]\n",
    "# due to the large size of the dataset we simply use 20,000 examples to test features. \n",
    "# We don't have the resources to test on all 85K\n",
    "\n",
    "df_kaggle = pd.read_csv(r'datasets/test_in.csv',header=None, skiprows=1, usecols=[1])\n",
    "kaggle = [val for sublist in df_kaggle.values.tolist() for val in sublist]\n",
    "\n",
    "BigCorpus = np.concatenate((X,kaggle),axis=0)\n",
    "\n",
    "le = preprocessing.LabelEncoder()\n",
    "y =le.fit_transform(y)\n",
    "index_train = 1000\n",
    "index_validate_end = len(X)\n",
    "\n",
    "tfidf_vectorizer = TfidfVectorizer(max_features=10000, stop_words='english', ngram_range=(1,2), sublinear_tf=True) \n",
    "# tfidf on the whole space train and validate set\n",
    "tfidf = tfidf_vectorizer.fit_transform(BigCorpus)\n",
    "tfidf = tfidf.toarray()\n",
    "\n",
    "print \"done tfidf tings\"\n",
    "\n",
    "# notice that our idicies allow us to stay within the space of documents that we have labels for\n",
    "print \"starting split\"\n",
    "my_classifier = knnClassifier()\n",
    "my_classifier.fit(tfidf[0:index_train], y[0:index_train])\n",
    "predictions = my_classifier.predict(tfidf[index_train:index_validate_end],k = 15)\n",
    "print accuracy_score(y[index_train:index_validate_end],predictions)\n",
    "print \"done\""
   ]
  },
  {
   "cell_type": "markdown",
   "metadata": {},
   "source": [
    "IMPROVEMENT!!!! But I doesn't quite hit the mark because our other classifiers are doing a lot better. Probably going to use this in the ensemble "
   ]
  }
 ],
 "metadata": {
  "anaconda-cloud": {},
  "kernelspec": {
   "display_name": "Python [Root]",
   "language": "python",
   "name": "Python [Root]"
  },
  "language_info": {
   "codemirror_mode": {
    "name": "ipython",
    "version": 2
   },
   "file_extension": ".py",
   "mimetype": "text/x-python",
   "name": "python",
   "nbconvert_exporter": "python",
   "pygments_lexer": "ipython2",
   "version": "2.7.12"
  }
 },
 "nbformat": 4,
 "nbformat_minor": 0
}
